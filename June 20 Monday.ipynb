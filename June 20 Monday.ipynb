{
 "cells": [
  {
   "cell_type": "raw",
   "metadata": {},
   "source": [
    "test(replace('Mississippi', 'i', 'I'), 'MIssIssIppI')\n",
    "\n",
    "s = 'I love spom!  Spom is my favorite food.  Spom, spom, spom, yum!'\n",
    "test(replace(s, 'om', 'am'),\n",
    "       'I love spam!  Spam is my favorite food.  Spam, spam, spam, yum!')\n",
    "\n",
    "test(replace(s, 'o', 'a'),\n",
    "       'I lave spam!  Spam is my favarite faad.  Spam, spam, spam, yum!')"
   ]
  },
  {
   "cell_type": "code",
   "execution_count": 24,
   "metadata": {
    "collapsed": false
   },
   "outputs": [
    {
     "name": "stdout",
     "output_type": "stream",
     "text": [
      "MIssIssIppI\n"
     ]
    }
   ],
   "source": [
    "def replace(s,old,new):\n",
    "    index = 0\n",
    "    length_old = len(old)\n",
    "    \n",
    "   # for c in s:\n",
    "   \n",
    "    index_old = s.find(old)\n",
    "    while index_old != -1:\n",
    "        new_string = s[:index_old] + new + s[index_old+length_old:]\n",
    "        s = new_string\n",
    "        index_old = s.find(old)\n",
    "        #index_old = index_old + 1\n",
    "    return s\n",
    "print (replace('Mississippi', 'i', 'I'))\n"
   ]
  },
  {
   "cell_type": "code",
   "execution_count": 1,
   "metadata": {
    "collapsed": false
   },
   "outputs": [
    {
     "name": "stdout",
     "output_type": "stream",
     "text": [
      "4\n"
     ]
    }
   ],
   "source": [
    "#ok\n",
    "def gcd(a,b):\n",
    "    if b ==0:\n",
    "        return a\n",
    "    return gcd(b,a%b)\n",
    "print(gcd(20,12))"
   ]
  },
  {
   "cell_type": "code",
   "execution_count": 3,
   "metadata": {
    "collapsed": false
   },
   "outputs": [
    {
     "name": "stdout",
     "output_type": "stream",
     "text": [
      "I am xyman\n"
     ]
    }
   ],
   "source": [
    "s = 'I am human'\n",
    "print(s.replace('hu','xy'))"
   ]
  },
  {
   "cell_type": "code",
   "execution_count": 14,
   "metadata": {
    "collapsed": false
   },
   "outputs": [
    {
     "data": {
      "text/plain": [
       "5"
      ]
     },
     "execution_count": 14,
     "metadata": {},
     "output_type": "execute_result"
    }
   ],
   "source": [
    "s = 'this is is'\n",
    "s.find('is',3,len(s))"
   ]
  },
  {
   "cell_type": "code",
   "execution_count": null,
   "metadata": {
    "collapsed": true
   },
   "outputs": [],
   "source": []
  },
  {
   "cell_type": "code",
   "execution_count": 27,
   "metadata": {
    "collapsed": false
   },
   "outputs": [
    {
     "name": "stdout",
     "output_type": "stream",
     "text": [
      "2\n",
      "3\n",
      "\n"
     ]
    }
   ],
   "source": [
    "def rp1(L,i):\n",
    "    if i< len(L):\n",
    "        print(L[i])\n",
    "        rp1(L,i+1)\n",
    "    else:\n",
    "        print('')\n",
    "L = [2,3]\n",
    "rp1(L,0)"
   ]
  },
  {
   "cell_type": "code",
   "execution_count": 46,
   "metadata": {
    "collapsed": false
   },
   "outputs": [
    {
     "data": {
      "text/plain": [
       "'*****'"
      ]
     },
     "execution_count": 46,
     "metadata": {},
     "output_type": "execute_result"
    }
   ],
   "source": [
    "def ast(num):\n",
    "    if num == 1:\n",
    "        #print('*')\n",
    "        return '*'\n",
    "    else:\n",
    "        temp = '*' + ast(num-1)\n",
    "        #print(temp)\n",
    "        return temp\n",
    "        \n",
    "ast(5)\n",
    "        \n",
    "    "
   ]
  },
  {
   "cell_type": "code",
   "execution_count": null,
   "metadata": {
    "collapsed": true
   },
   "outputs": [],
   "source": []
  },
  {
   "cell_type": "code",
   "execution_count": null,
   "metadata": {
    "collapsed": true
   },
   "outputs": [],
   "source": []
  },
  {
   "cell_type": "code",
   "execution_count": null,
   "metadata": {
    "collapsed": true
   },
   "outputs": [],
   "source": []
  },
  {
   "cell_type": "code",
   "execution_count": null,
   "metadata": {
    "collapsed": true
   },
   "outputs": [],
   "source": []
  }
 ],
 "metadata": {
  "kernelspec": {
   "display_name": "Python 3",
   "language": "python",
   "name": "python3"
  },
  "language_info": {
   "codemirror_mode": {
    "name": "ipython",
    "version": 3
   },
   "file_extension": ".py",
   "mimetype": "text/x-python",
   "name": "python",
   "nbconvert_exporter": "python",
   "pygments_lexer": "ipython3",
   "version": "3.5.1"
  }
 },
 "nbformat": 4,
 "nbformat_minor": 0
}
