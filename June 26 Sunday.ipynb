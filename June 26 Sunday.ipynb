{
 "cells": [
  {
   "cell_type": "code",
   "execution_count": 8,
   "metadata": {
    "collapsed": false
   },
   "outputs": [
    {
     "name": "stdout",
     "output_type": "stream",
     "text": [
      "5.0\n"
     ]
    }
   ],
   "source": [
    "import math\n",
    "class Point:\n",
    "    def __init__(self,x,y):\n",
    "        self.x = x\n",
    "        self.y = y\n",
    "    def getX(self):\n",
    "        return self.x\n",
    "    def getY(self):\n",
    "        return self.y\n",
    "    def distanceFromOrigin(self):\n",
    "        return ((self.x**2) + (self.y**2))** 0.5\n",
    "def distance(point1,point2):\n",
    "    xdiff = point2.getX() - point1.getX()\n",
    "    ydiff = point2.getY() - point1.getY()\n",
    "    distance = math.sqrt(xdiff**2 + ydiff**2)\n",
    "    return distance\n",
    "    \n",
    "    \n",
    "p = Point(4,3)\n",
    "q = Point(0,0)\n",
    "\n",
    "#print(p.distanceFromOrigin())\n",
    "print(distance(p,q))\n"
   ]
  },
  {
   "cell_type": "code",
   "execution_count": null,
   "metadata": {
    "collapsed": true
   },
   "outputs": [],
   "source": []
  },
  {
   "cell_type": "markdown",
   "metadata": {},
   "source": [
    "# all methods of class needs self?"
   ]
  },
  {
   "cell_type": "markdown",
   "metadata": {},
   "source": [
    "http://stackoverflow.com/questions/1436703/difference-between-str-and-repr-in-python\n",
    "__str__ vs __repr__"
   ]
  },
  {
   "cell_type": "code",
   "execution_count": 9,
   "metadata": {
    "collapsed": false
   },
   "outputs": [
    {
     "name": "stdout",
     "output_type": "stream",
     "text": [
      "x=4.0, y=8.0\n"
     ]
    }
   ],
   "source": [
    "class Point:\n",
    "\n",
    "    def __init__(self, initX, initY):\n",
    "        \"\"\" Create a new point at the given coordinates. \"\"\"\n",
    "        self.x = initX\n",
    "        self.y = initY\n",
    "\n",
    "    def getX(self):\n",
    "        return self.x\n",
    "\n",
    "    def getY(self):\n",
    "        return self.y\n",
    "\n",
    "    def distanceFromOrigin(self):\n",
    "        return ((self.x ** 2) + (self.y ** 2)) ** 0.5\n",
    "\n",
    "    def __str__(self):\n",
    "        return \"x=\" + str(self.x) + \", y=\" + str(self.y)\n",
    "\n",
    "    def halfway(self, target):\n",
    "         mx = (self.x + target.x) / 2\n",
    "         my = (self.y + target.y) / 2\n",
    "         return Point(mx, my)\n",
    "\n",
    "p = Point(3, 4)\n",
    "q = Point(5, 12)\n",
    "mid = p.halfway(q)\n",
    "\n",
    "print(mid)\n",
    "#print(mid.getX())\n",
    "#print(mid.getY())"
   ]
  },
  {
   "cell_type": "markdown",
   "metadata": {},
   "source": [
    "Add a distanceFromPoint method that works similar to \n",
    "distanceFromOrigin except that it takes a Point as a parameter and \n",
    "computes the distance between that point and self."
   ]
  },
  {
   "cell_type": "code",
   "execution_count": 13,
   "metadata": {
    "collapsed": false
   },
   "outputs": [
    {
     "name": "stdout",
     "output_type": "stream",
     "text": [
      "5.0\n"
     ]
    }
   ],
   "source": [
    "import math\n",
    "class Point:\n",
    "    def __init__(self,x,y):\n",
    "        self.x = x\n",
    "        self.y = y\n",
    "    def getX(self):\n",
    "        return self.x\n",
    "    def getY(self):\n",
    "        return self.y\n",
    "    def distanceFromOrigin(self):\n",
    "        return ((self.x**2) + (self.y**2))** 0.5\n",
    "    def distanceFromPoint(self,otherP):\n",
    "        xdiff = otherP.getX() - self.getX()\n",
    "        ydiff = otherP.getY() - self.getY()\n",
    "        distance = math.sqrt(xdiff**2 + ydiff**2)\n",
    "        return distance\n",
    "      \n",
    "p = Point(4,3)\n",
    "q = Point(0,0)\n",
    "print(q.distanceFromPoint(p))\n",
    "\n",
    "#print(p.distanceFromOrigin())\n",
    "#print(distance(p,q))\n",
    "#\n",
    "#def distance(point1,point2):\n",
    "   # xdiff = point2.getX() - point1.getX()\n",
    "   # ydiff = point2.getY() - point1.getY()\n",
    "# #     distance = math.sqrt(xdiff**2 + ydiff**2)\n",
    "#     return distance\n",
    "\n"
   ]
  },
  {
   "cell_type": "markdown",
   "metadata": {},
   "source": [
    "Add a method reflect_x to Point which returns a new Point, \n",
    "one which is the reflection of the point about the x-axis. \n",
    "For example, Point(3, 5).reflect_x()"
   ]
  },
  {
   "cell_type": "code",
   "execution_count": 20,
   "metadata": {
    "collapsed": false
   },
   "outputs": [
    {
     "name": "stdout",
     "output_type": "stream",
     "text": [
      "x= 4 y= -3\n"
     ]
    }
   ],
   "source": [
    "import math\n",
    "class Point:\n",
    "    def __init__(self,x,y):\n",
    "        self.x = x\n",
    "        self.y = y\n",
    "    def getX(self):\n",
    "        return self.x\n",
    "    def getY(self):\n",
    "        return self.y\n",
    "    def reflect_x(self):\n",
    "        newP = Point(self.x,self.y)\n",
    "        newP.y = -self.y\n",
    "        return newP\n",
    "    def __str__(self):\n",
    "        return 'x= '+str(self.x)+ ' y= ' + str(self.y)\n",
    "    \n",
    "p = Point(4,3)\n",
    "print(p.reflect_x()) #print automatically calls __str__ method\n",
    "#p.__str__()"
   ]
  },
  {
   "cell_type": "markdown",
   "metadata": {
    "collapsed": true
   },
   "source": [
    "Add a method slope_from_origin which returns the slope of the line \n",
    "joining the origin to the point. For example,"
   ]
  },
  {
   "cell_type": "code",
   "execution_count": 1,
   "metadata": {
    "collapsed": false
   },
   "outputs": [
    {
     "name": "stdout",
     "output_type": "stream",
     "text": [
      "1.3333333333333333\n"
     ]
    }
   ],
   "source": [
    "import math\n",
    "class Point:\n",
    "    def __init__(self,x,y):\n",
    "        self.x = x\n",
    "        self.y = y\n",
    "    def getX(self):\n",
    "        return self.x\n",
    "    def getY(self):\n",
    "        return self.y\n",
    "    def slope_from_origin(self):\n",
    "        return(float(self.y/self.x))\n",
    "p = Point(3,4)\n",
    "print(p.slope_from_origin())"
   ]
  },
  {
   "cell_type": "markdown",
   "metadata": {
    "collapsed": true
   },
   "source": [
    "Add a method called move that will take two parameters, call them dx and dy. \n",
    "The method will cause the point to move in the x and y direction the number \n",
    "of units given. (Hint: you will change the values of the state of the point)"
   ]
  },
  {
   "cell_type": "code",
   "execution_count": 17,
   "metadata": {
    "collapsed": false
   },
   "outputs": [
    {
     "name": "stdout",
     "output_type": "stream",
     "text": [
      "x= -3 y= 4\n"
     ]
    }
   ],
   "source": [
    "import math\n",
    "class Point:\n",
    "    def __init__(self,x,y):\n",
    "        self.x = x\n",
    "        self.y = y\n",
    "    def getX(self):\n",
    "        return self.x\n",
    "    def getY(self):\n",
    "        return self.y\n",
    "    def move(self,dx,dy):\n",
    "         self.x = self.x + dx\n",
    "         self.y = self.y + dy\n",
    "        \n",
    "    def __str__(self):\n",
    "        return 'x= '+str(self.x)+ ' y= ' + str(self.y)\n",
    "    \n",
    "p = Point(0,0)\n",
    "p.move(-3,4)\n",
    "#print(p.getX(), p.getY())\n",
    "print(p)"
   ]
  },
  {
   "cell_type": "markdown",
   "metadata": {},
   "source": [
    "We can represent a rectangle by knowing three things: the \n",
    "location of its lower left corner, its width, and its height. \n",
    "Create a class definition for a Rectangle class using this idea. \n",
    "To create a Rectangle object at location (4,5) with width 6 and height 5, \n",
    "we would do the following:\n",
    "\n",
    "r = Rectangle(Point(4, 5), 6, 5)"
   ]
  },
  {
   "cell_type": "code",
   "execution_count": 33,
   "metadata": {
    "collapsed": false
   },
   "outputs": [
    {
     "name": "stdout",
     "output_type": "stream",
     "text": [
      "(0, 0) 3 5\n"
     ]
    }
   ],
   "source": [
    "import math\n",
    "class Point:\n",
    "    def __init__(self,x,y):\n",
    "        self.x = x\n",
    "        self.y = y\n",
    "    def getX(self):\n",
    "        return self.x\n",
    "    def getY(self):\n",
    "        return self.y\n",
    "    def __str__(self):\n",
    "        return 'x= '+str(self.x)+ ' y= ' + str(self.y)\n",
    "class Rectangle:\n",
    "    def __init__(self,Point,w,h):\n",
    "        self.leftCornerPoint = Point\n",
    "        self.width = w\n",
    "        self.height = h\n",
    "    def __str__(self):\n",
    "        return self.leftCornerPoint.__str__() + ' ' + str(self.width)+ \\\n",
    "    ' '+str(self.height)\n",
    "r = Rectangle((0,0), 3,5)\n",
    "print(r)"
   ]
  },
  {
   "cell_type": "code",
   "execution_count": 34,
   "metadata": {
    "collapsed": false
   },
   "outputs": [
    {
     "ename": "NameError",
     "evalue": "name 'cos' is not defined",
     "output_type": "error",
     "traceback": [
      "\u001b[1;31m---------------------------------------------------------------------------\u001b[0m",
      "\u001b[1;31mNameError\u001b[0m                                 Traceback (most recent call last)",
      "\u001b[1;32m<ipython-input-34-eddb8697e1ef>\u001b[0m in \u001b[0;36m<module>\u001b[1;34m()\u001b[0m\n\u001b[1;32m----> 1\u001b[1;33m \u001b[0mcos\u001b[0m\u001b[1;33m(\u001b[0m\u001b[1;36m0\u001b[0m\u001b[1;33m)\u001b[0m\u001b[1;33m\u001b[0m\u001b[0m\n\u001b[0m",
      "\u001b[1;31mNameError\u001b[0m: name 'cos' is not defined"
     ]
    }
   ],
   "source": [
    "cos(0)"
   ]
  },
  {
   "cell_type": "code",
   "execution_count": 35,
   "metadata": {
    "collapsed": false
   },
   "outputs": [
    {
     "name": "stdout",
     "output_type": "stream",
     "text": [
      "hello\n"
     ]
    }
   ],
   "source": [
    "print('hello')"
   ]
  },
  {
   "cell_type": "code",
   "execution_count": null,
   "metadata": {
    "collapsed": true
   },
   "outputs": [],
   "source": []
  },
  {
   "cell_type": "code",
   "execution_count": null,
   "metadata": {
    "collapsed": true
   },
   "outputs": [],
   "source": []
  },
  {
   "cell_type": "code",
   "execution_count": null,
   "metadata": {
    "collapsed": true
   },
   "outputs": [],
   "source": []
  }
 ],
 "metadata": {
  "kernelspec": {
   "display_name": "Python 3",
   "language": "python",
   "name": "python3"
  },
  "language_info": {
   "codemirror_mode": {
    "name": "ipython",
    "version": 3
   },
   "file_extension": ".py",
   "mimetype": "text/x-python",
   "name": "python",
   "nbconvert_exporter": "python",
   "pygments_lexer": "ipython3",
   "version": "3.5.1"
  }
 },
 "nbformat": 4,
 "nbformat_minor": 0
}
